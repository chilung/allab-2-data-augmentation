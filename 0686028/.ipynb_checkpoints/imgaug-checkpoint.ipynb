{
 "cells": [
  {
   "cell_type": "code",
   "execution_count": null,
   "metadata": {
    "collapsed": true
   },
   "outputs": [],
   "source": [
    "!pip3 install 'torch==0.4.0'\n",
    "!pip3 install 'torchvision==0.2.1'\n",
    "!pip3 install --no-cache-dir -I 'pillow==5.1.0'\n",
    "\n",
    "# Restart Kernel\n",
    "# This workaround is needed to properly upgrade PIL on Google Colab.\n",
    "import os\n",
    "os._exit(00)"
   ]
  }
 ],
 "metadata": {
  "anaconda-cloud": {},
  "kernelspec": {
   "display_name": "Python [conda env:anaconda3]",
   "language": "python",
   "name": "conda-env-anaconda3-py"
  },
  "language_info": {
   "codemirror_mode": {
    "name": "ipython",
    "version": 3
   },
   "file_extension": ".py",
   "mimetype": "text/x-python",
   "name": "python",
   "nbconvert_exporter": "python",
   "pygments_lexer": "ipython3",
   "version": "3.5.2"
  }
 },
 "nbformat": 4,
 "nbformat_minor": 1
}
